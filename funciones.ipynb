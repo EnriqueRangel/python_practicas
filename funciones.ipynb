{
  "nbformat": 4,
  "nbformat_minor": 0,
  "metadata": {
    "colab": {
      "provenance": [],
      "authorship_tag": "ABX9TyMbazCjQ+CS5/YJhdVQ6qkn",
      "include_colab_link": true
    },
    "kernelspec": {
      "name": "python3",
      "display_name": "Python 3"
    },
    "language_info": {
      "name": "python"
    }
  },
  "cells": [
    {
      "cell_type": "markdown",
      "metadata": {
        "id": "view-in-github",
        "colab_type": "text"
      },
      "source": [
        "<a href=\"https://colab.research.google.com/github/EnriqueRangel/python_practicas/blob/main/funciones.ipynb\" target=\"_parent\"><img src=\"https://colab.research.google.com/assets/colab-badge.svg\" alt=\"Open In Colab\"/></a>"
      ]
    },
    {
      "cell_type": "markdown",
      "source": [
        "***1 - Escribe un código que lee la lista siguiente y realiza:***"
      ],
      "metadata": {
        "id": "IdR1aiJBkMLh"
      }
    },
    {
      "cell_type": "code",
      "execution_count": 1,
      "metadata": {
        "id": "3RtbEFmljJPa"
      },
      "outputs": [],
      "source": [
        "lista = [16, 14, 63, 65, 17, 99, 70, 11, 20, 48, 79, 32, 17, 89, 12, 25, 66]\n",
        "# 1. Leer el tamaño de la lista\n",
        "# 2. Leer el valor máximo y mínimo\n",
        "# 3. Calcular la suma de los valores de la lista\n",
        "# 4. Mostrar un mensaje al final: La lista tiene `tamano` números, donde el mayor\n",
        "# es `mayor` y el menor es `menor`. La suma de los valores es `suma`.\n"
      ]
    },
    {
      "cell_type": "code",
      "source": [
        "tamano = len(lista)\n",
        "mx_mn = [max(lista), min(lista)]\n",
        "suma = sum(lista)\n",
        "\n",
        "print(f\"La lista tiene {tamano} números, donde el mayor es {mx_mn[0]} y el menor es {mx_mn[1]}. La suma de los valores es {suma}.\")"
      ],
      "metadata": {
        "colab": {
          "base_uri": "https://localhost:8080/"
        },
        "id": "gVIB7svLjU_x",
        "outputId": "515c9f98-1678-4d7b-96ad-df76833baa0d"
      },
      "execution_count": 3,
      "outputs": [
        {
          "output_type": "stream",
          "name": "stdout",
          "text": [
            "La lista tiene 17 números, donde el mayor es 99 y el menor es 11. La suma de los valores es 743.\n"
          ]
        }
      ]
    },
    {
      "cell_type": "markdown",
      "source": [
        "***2 - Escribe una función que genere la tabla de multiplicar de un número entero del 1 al 10, según la elección del usuario. Como ejemplo, para el número 7, la tabla de multiplicar se debe mostrar en el siguiente formato:***"
      ],
      "metadata": {
        "id": "EV4mDMVrkDoA"
      }
    },
    {
      "cell_type": "code",
      "source": [
        "# Tabla del  7:\n",
        "# 7 x 0 = 0\n",
        "# 7 x 1 = 7\n",
        "# [...]\n",
        "# 7 x 10 = 70\n",
        "\n",
        "def tabla(n):\n",
        "    print(f\"Tabla del {n}:\")\n",
        "    for i in range(11):\n",
        "        print(f\"{n} x {i} = {n*i}\")\n",
        ""
      ],
      "metadata": {
        "id": "ZaNLhTMrj3_N"
      },
      "execution_count": 4,
      "outputs": []
    },
    {
      "cell_type": "code",
      "source": [
        "tabla(3)\n"
      ],
      "metadata": {
        "colab": {
          "base_uri": "https://localhost:8080/"
        },
        "id": "kQ0nzNg-kkXQ",
        "outputId": "55c3f651-3558-4eb3-c8f3-1a601bcc186f"
      },
      "execution_count": 5,
      "outputs": [
        {
          "output_type": "stream",
          "name": "stdout",
          "text": [
            "Tabla del 3:\n",
            "3 x 0 = 0\n",
            "3 x 1 = 3\n",
            "3 x 2 = 6\n",
            "3 x 3 = 9\n",
            "3 x 4 = 12\n",
            "3 x 5 = 15\n",
            "3 x 6 = 18\n",
            "3 x 7 = 21\n",
            "3 x 8 = 24\n",
            "3 x 9 = 27\n",
            "3 x 10 = 30\n"
          ]
        }
      ]
    },
    {
      "cell_type": "markdown",
      "source": [
        "**3 - Crea una función que lea la siguiente lista y devuelva una nueva lista con los múltiplos de 3:**"
      ],
      "metadata": {
        "id": "aehXnBMtk8aN"
      }
    },
    {
      "cell_type": "code",
      "source": [
        "[97, 80, 94, 88, 80, 1, 16, 53, 62, 32, 24, 99]\n",
        "\n",
        "def multiplos_de_3(lista):\n",
        "    return [i for i in lista if i % 3 == 0]\n",
        "    #el simbolo % es para ver si la operacion tiene residuo y nos ayuda oara este tipo de situaciones"
      ],
      "metadata": {
        "id": "DivOEH97knhS"
      },
      "execution_count": 9,
      "outputs": []
    },
    {
      "cell_type": "code",
      "source": [
        "multiplos_de_3([97, 80, 94, 88, 80, 1, 16, 53, 62, 32, 24, 99])\n"
      ],
      "metadata": {
        "colab": {
          "base_uri": "https://localhost:8080/"
        },
        "id": "h2aM8mO6ljI1",
        "outputId": "f51775eb-2259-400d-ab7e-4e74a57abc98"
      },
      "execution_count": 10,
      "outputs": [
        {
          "output_type": "execute_result",
          "data": {
            "text/plain": [
              "[24, 99]"
            ]
          },
          "metadata": {},
          "execution_count": 10
        }
      ]
    },
    {
      "cell_type": "markdown",
      "source": [
        "***4 - Crea una lista de los cuadrados de los números de la siguiente lista [1, 2, 3, 4, 5, 6, 7, 8, 9, 10]. Recuerda utilizar las funciones lambda y map() para calcular el cuadrado de cada elemento de la lista.***"
      ],
      "metadata": {
        "id": "b8TCpW4DpinO"
      }
    },
    {
      "cell_type": "code",
      "source": [
        "cuadrados = list(map(lambda x: x**2, [1, 2, 3, 4, 5, 6, 7, 8, 9, 10]))\n",
        "cuadrados"
      ],
      "metadata": {
        "colab": {
          "base_uri": "https://localhost:8080/"
        },
        "id": "T_S6x2QRpoW8",
        "outputId": "9069592b-26ce-49f5-9ef3-c5fbc5197323"
      },
      "execution_count": 13,
      "outputs": [
        {
          "output_type": "execute_result",
          "data": {
            "text/plain": [
              "[1, 4, 9, 16, 25, 36, 49, 64, 81, 100]"
            ]
          },
          "metadata": {},
          "execution_count": 13
        }
      ]
    },
    {
      "cell_type": "markdown",
      "source": [
        "# Aplicando a proyectos\n",
        "\n"
      ],
      "metadata": {
        "id": "vKjJM_xbqqIZ"
      }
    },
    {
      "cell_type": "markdown",
      "source": [
        "***5 - Has sido contratado como científico(a) de datos de una asociación de skate. Para analizar las notas recibidas por los skaters en algunas competiciones a lo largo del año, necesitas crear un código que calcule la puntuación de los atletas. Para ello, tu código debe recibir 5 notas ingresadas por los jueces.***"
      ],
      "metadata": {
        "id": "LASZavInq0IB"
      }
    },
    {
      "cell_type": "code",
      "source": [
        "entradas = []\n",
        "\n",
        "for i in range(5):\n",
        "    nota = float(input(f\"Ingrese la nota del juez #{i+1}: \"))\n",
        "    entradas.append(nota)\n",
        "\n",
        "nota_maxima = max(entradas)\n",
        "nota_minima = min(entradas)\n",
        "promedio = sum(entradas) / len(entradas)\n",
        "\n",
        "print(f\"\\n📊 Resultados: {entradas}\")\n",
        "print(f\"✅ Nota máxima: {nota_maxima}\")\n",
        "print(f\"❌ Nota mínima: {nota_minima}\")\n",
        "print(f\"📈 Promedio: {promedio:.2f}\")"
      ],
      "metadata": {
        "colab": {
          "base_uri": "https://localhost:8080/"
        },
        "id": "WmquzVbLZmbQ",
        "outputId": "c5ee4467-5b0c-4935-a3a3-875ace6e33c8"
      },
      "execution_count": 7,
      "outputs": [
        {
          "output_type": "stream",
          "name": "stdout",
          "text": [
            "Ingrese la nota del juez #1: 10\n",
            "Ingrese la nota del juez #2: 10\n",
            "Ingrese la nota del juez #3: 10\n",
            "Ingrese la nota del juez #4: 9\n",
            "Ingrese la nota del juez #5: 8\n",
            "\n",
            "📊 Resultados: [10.0, 10.0, 10.0, 9.0, 8.0]\n",
            "✅ Nota máxima: 10.0\n",
            "❌ Nota mínima: 8.0\n",
            "📈 Promedio: 9.40\n"
          ]
        }
      ]
    },
    {
      "cell_type": "markdown",
      "source": [
        "***7 - Has recibido una demanda para tratar 2 listas con los nombres y apellidos de cada estudiante concatenándolos para presentar sus nombres completos en la forma Nombre Apellido. Las listas son:***"
      ],
      "metadata": {
        "id": "9__SEFpGZ_9W"
      }
    },
    {
      "cell_type": "code",
      "source": [
        "nombres = [\"juan\", \"MaRia\", \"JOSÉ\"]\n",
        "apellidos = [\"SILVA\", \"sosa\", \"Tavares\"]\n",
        "\n",
        "# Normalizar nombres y apellidos y crear una nueva lista con los nombres completos\n",
        "# Puedes apoyarte en la función map()"
      ],
      "metadata": {
        "id": "nCcPP2YJaXeD"
      },
      "execution_count": 9,
      "outputs": []
    },
    {
      "cell_type": "code",
      "source": [
        "def combinar(i):\n",
        "    nombre = nombres[i].capitalize()\n",
        "    apellido = apellidos[i].capitalize()\n",
        "    return f\"{nombre} {apellido}\"\n",
        "\n",
        "nombres_completos = list(map(combinar, range(len(nombres))))\n",
        "print(nombres_completos)"
      ],
      "metadata": {
        "colab": {
          "base_uri": "https://localhost:8080/"
        },
        "id": "fvWOEFMQanFz",
        "outputId": "d198b375-1889-4275-ecb1-5e755ea74512"
      },
      "execution_count": 13,
      "outputs": [
        {
          "output_type": "stream",
          "name": "stdout",
          "text": [
            "['Juan Silva', 'Maria Sosa', 'José Tavares']\n"
          ]
        }
      ]
    }
  ]
}